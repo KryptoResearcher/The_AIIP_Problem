# ---
# jupyter:
#   jupytext:
#     text_representation:
#       extension: .py
#       format_name: light
#       format_version: '1.5'
#       jupytext_version: 1.16.4
#   kernelspec:
#     display_name: Python 3 (ipykernel)
#     language: python
#     name: python3
# ---

# # Tutorial: Affine Iterated Inversion Problem (AIIP)
# This notebook provides a hands-on introduction to the AIIP problem and its implementation.

# ## 1. Importing the Library
from src.aiip import AIIP
from src.parameters import generate_parameters

# ## 2. Creating a Small AIIP Instance
# Let's generate parameters for a very low-security instance to play with.
print("Generating parameters for a toy example (n=4, ~32-bit security):")
params = generate_parameters(bit_sec=32, n=4)
print(f"q = {params.q}")
print(f"n = {params.n}")
print(f"alpha = {params.alpha}")

# Define our polynomial f(x) = x^2 + alpha
f = lambda x: x**2 + params.alpha
aiip_solver = AIIP(f, params.n, params.q)

# ## 3. Iterating the Function
# Let's pick a random starting point and see where it ends up after `n` iterations.
secret_x = 12345
print(f"\nOur secret starting value is x = {secret_x}")

y_target = aiip_solver.iterate(secret_x)
print(f"After {params.n} iterations, we get y = f^{params.n}({secret_x}) = {y_target}")

# ## 4. The AIIP Challenge
# The core problem is: Given (f, n, y_target), find *any* x such that f^{(n)}(x) = y_target.
print(f"\nAIIP Challenge: Find x such that f^{params.n}(x) = {y_target}")

# For a small field, we can try a brute-force attack.
from src.cryptanalysis import brute_force_attack

found_x = brute_force_attack(aiip_solver, y_target)
print(f"Brute force found x = {found_x}")

# Verify the solution
if found_x is not None:
    verification_y = aiip_solver.iterate(found_x)
    print(f"Verification: f^{params.n}({found_x}) = {verification_y}")
    print(f"Does it match the target? {verification_y == y_target}")

# ## 5. Generating the MQ System
# The real cryptographic interest lies in the reduction to the MQ problem.
print("\nGenerating the MQ system for the AIIP instance...")
mq_system = aiip_solver.to_mq_system(y_target)
print(f"The MQ system has {mq_system.num_vars} variables and {len(mq_system.equations)} equations.")
print("The equations are defined over the prime subfield.")

# **Note:** For larger n and q, solving this MQ system with Gröbner basis algorithms becomes infeasible, which is the basis of the security assumption.